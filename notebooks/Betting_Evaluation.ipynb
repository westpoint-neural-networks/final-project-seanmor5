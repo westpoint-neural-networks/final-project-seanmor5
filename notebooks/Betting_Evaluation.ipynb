{
  "nbformat": 4,
  "nbformat_minor": 0,
  "metadata": {
    "colab": {
      "name": "Betting Evaluation.ipynb",
      "provenance": [],
      "collapsed_sections": []
    },
    "kernelspec": {
      "name": "python3",
      "display_name": "Python 3"
    },
    "accelerator": "GPU"
  },
  "cells": [
    {
      "cell_type": "code",
      "metadata": {
        "id": "6pL4a1Fk4JX8",
        "colab_type": "code",
        "outputId": "9f6cdbe5-de4b-4705-abb9-dca52b94a9c1",
        "colab": {
          "base_uri": "https://localhost:8080/",
          "height": 124
        }
      },
      "source": [
        "from google.colab import drive\n",
        "import tensorflow as tf\n",
        "import numpy as np\n",
        "import pandas as pd\n",
        "\n",
        "drive.mount('/content/gdrive')"
      ],
      "execution_count": 0,
      "outputs": [
        {
          "output_type": "stream",
          "text": [
            "Go to this URL in a browser: https://accounts.google.com/o/oauth2/auth?client_id=947318989803-6bn6qk8qdgf4n4g3pfee6491hc0brc4i.apps.googleusercontent.com&redirect_uri=urn%3aietf%3awg%3aoauth%3a2.0%3aoob&response_type=code&scope=email%20https%3a%2f%2fwww.googleapis.com%2fauth%2fdocs.test%20https%3a%2f%2fwww.googleapis.com%2fauth%2fdrive%20https%3a%2f%2fwww.googleapis.com%2fauth%2fdrive.photos.readonly%20https%3a%2f%2fwww.googleapis.com%2fauth%2fpeopleapi.readonly\n",
            "\n",
            "Enter your authorization code:\n",
            "··········\n",
            "Mounted at /content/gdrive\n"
          ],
          "name": "stdout"
        }
      ]
    },
    {
      "cell_type": "markdown",
      "metadata": {
        "id": "4ZrYHnee2Pr0",
        "colab_type": "text"
      },
      "source": [
        "# Load Data\n",
        "\n",
        "I know it says \"validation_data\" but it was only used to validate the ANN, NOT VeGAN or any other models. VeGAN never saw the validation data during training.\n",
        "\n",
        "This code loads 15 random samples of seasons to be used to test all approaches."
      ]
    },
    {
      "cell_type": "code",
      "metadata": {
        "id": "jbN95q304Qxu",
        "colab_type": "code",
        "colab": {}
      },
      "source": [
        "test = pd.read_csv('gdrive/My Drive/sbgan/validation_data.csv', index_col=0)"
      ],
      "execution_count": 0,
      "outputs": []
    },
    {
      "cell_type": "code",
      "metadata": {
        "id": "T0_P7r1gwHDJ",
        "colab_type": "code",
        "colab": {}
      },
      "source": [
        "samples = []\n",
        "for i in range(15):\n",
        "  samples[i] = test.sample(5120)"
      ],
      "execution_count": 0,
      "outputs": []
    },
    {
      "cell_type": "markdown",
      "metadata": {
        "id": "bsFHStZcDikz",
        "colab_type": "text"
      },
      "source": [
        "# Random Approach\n",
        "\n",
        "This approach takes random upsets and bets on them. It's a random baseline for comparison with VeGAN."
      ]
    },
    {
      "cell_type": "code",
      "metadata": {
        "id": "PHjcth6uDkUK",
        "colab_type": "code",
        "colab": {}
      },
      "source": [
        "def compute_ran_accuracy(picks, out):\n",
        "  num_right = 0\n",
        "  num_picked = np.sum(picks)\n",
        "  for p, o in zip(picks, out):\n",
        "    if p == 1 and o == 1:\n",
        "      num_right += 1\n",
        "  return num_right / num_picked\n",
        "\n",
        "def compute_ran_profit(picks, odds, out, max_wager=1.):\n",
        "  odds = 1. / odds\n",
        "  total = 0\n",
        "  for p, odd, vic in zip(picks, odds[:, 0], out[:, 0]):\n",
        "    wager = p * max_wager\n",
        "    total += (wager * odd * vic) - wager\n",
        "  return total"
      ],
      "execution_count": 0,
      "outputs": []
    },
    {
      "cell_type": "code",
      "metadata": {
        "id": "W41NVPKmEiUr",
        "colab_type": "code",
        "colab": {}
      },
      "source": [
        "def get_random_results(samples):\n",
        "  ran_acc = []\n",
        "  ran_prof = []\n",
        "  for sample in samples:\n",
        "    sample = test.sample(5120)\n",
        "    underdogs = sample[(sample['ODDS'] >= 2.)]\n",
        "    X_underdogs, underdog_odds, underdog_outcomes = underdogs.drop(['ODDS', 'OUTCOME'], axis=1).to_numpy(), 1. / underdogs[['ODDS']].to_numpy(), underdogs[['OUTCOME']].to_numpy()\n",
        "    picks = np.random.randint(2, size=underdog_outcomes.shape[0])\n",
        "    ran_acc.append(compute_ran_accuracy(picks, underdog_outcomes))\n",
        "    ran_prof.append(compute_ran_profit(picks, underdog_odds, underdog_outcomes))\n",
        "  return ran_acc, ran_prof"
      ],
      "execution_count": 0,
      "outputs": []
    },
    {
      "cell_type": "code",
      "metadata": {
        "id": "K6CtEFMGEl2E",
        "colab_type": "code",
        "outputId": "3af573dc-213d-443f-db00-4042a12cdf31",
        "colab": {
          "base_uri": "https://localhost:8080/",
          "height": 294
        }
      },
      "source": [
        "ran_acc, ran_prof = get_random_results(samples)\n",
        "ran_acc_df = pd.DataFrame(data=ran_acc, columns=['Season Accuracy'])\n",
        "ran_prof_df = pd.DataFrame(data=ran_prof, columns=['Season Profit'])\n",
        "ran_acc_df.describe()"
      ],
      "execution_count": 0,
      "outputs": [
        {
          "output_type": "execute_result",
          "data": {
            "text/html": [
              "<div>\n",
              "<style scoped>\n",
              "    .dataframe tbody tr th:only-of-type {\n",
              "        vertical-align: middle;\n",
              "    }\n",
              "\n",
              "    .dataframe tbody tr th {\n",
              "        vertical-align: top;\n",
              "    }\n",
              "\n",
              "    .dataframe thead th {\n",
              "        text-align: right;\n",
              "    }\n",
              "</style>\n",
              "<table border=\"1\" class=\"dataframe\">\n",
              "  <thead>\n",
              "    <tr style=\"text-align: right;\">\n",
              "      <th></th>\n",
              "      <th>Season Accuracy</th>\n",
              "    </tr>\n",
              "  </thead>\n",
              "  <tbody>\n",
              "    <tr>\n",
              "      <th>count</th>\n",
              "      <td>15.000000</td>\n",
              "    </tr>\n",
              "    <tr>\n",
              "      <th>mean</th>\n",
              "      <td>0.302828</td>\n",
              "    </tr>\n",
              "    <tr>\n",
              "      <th>std</th>\n",
              "      <td>0.011207</td>\n",
              "    </tr>\n",
              "    <tr>\n",
              "      <th>min</th>\n",
              "      <td>0.285362</td>\n",
              "    </tr>\n",
              "    <tr>\n",
              "      <th>25%</th>\n",
              "      <td>0.293374</td>\n",
              "    </tr>\n",
              "    <tr>\n",
              "      <th>50%</th>\n",
              "      <td>0.302230</td>\n",
              "    </tr>\n",
              "    <tr>\n",
              "      <th>75%</th>\n",
              "      <td>0.313420</td>\n",
              "    </tr>\n",
              "    <tr>\n",
              "      <th>max</th>\n",
              "      <td>0.320388</td>\n",
              "    </tr>\n",
              "  </tbody>\n",
              "</table>\n",
              "</div>"
            ],
            "text/plain": [
              "       Season Accuracy\n",
              "count        15.000000\n",
              "mean          0.302828\n",
              "std           0.011207\n",
              "min           0.285362\n",
              "25%           0.293374\n",
              "50%           0.302230\n",
              "75%           0.313420\n",
              "max           0.320388"
            ]
          },
          "metadata": {
            "tags": []
          },
          "execution_count": 7
        }
      ]
    },
    {
      "cell_type": "code",
      "metadata": {
        "id": "q6hihbMQE7t-",
        "colab_type": "code",
        "outputId": "2138a2f7-c1b2-4625-c4fd-4b709c30eb40",
        "colab": {
          "base_uri": "https://localhost:8080/",
          "height": 294
        }
      },
      "source": [
        "ran_prof_df.describe()"
      ],
      "execution_count": 0,
      "outputs": [
        {
          "output_type": "execute_result",
          "data": {
            "text/html": [
              "<div>\n",
              "<style scoped>\n",
              "    .dataframe tbody tr th:only-of-type {\n",
              "        vertical-align: middle;\n",
              "    }\n",
              "\n",
              "    .dataframe tbody tr th {\n",
              "        vertical-align: top;\n",
              "    }\n",
              "\n",
              "    .dataframe thead th {\n",
              "        text-align: right;\n",
              "    }\n",
              "</style>\n",
              "<table border=\"1\" class=\"dataframe\">\n",
              "  <thead>\n",
              "    <tr style=\"text-align: right;\">\n",
              "      <th></th>\n",
              "      <th>Season Profit</th>\n",
              "    </tr>\n",
              "  </thead>\n",
              "  <tbody>\n",
              "    <tr>\n",
              "      <th>count</th>\n",
              "      <td>15.000000</td>\n",
              "    </tr>\n",
              "    <tr>\n",
              "      <th>mean</th>\n",
              "      <td>-94.809333</td>\n",
              "    </tr>\n",
              "    <tr>\n",
              "      <th>std</th>\n",
              "      <td>48.083213</td>\n",
              "    </tr>\n",
              "    <tr>\n",
              "      <th>min</th>\n",
              "      <td>-184.380000</td>\n",
              "    </tr>\n",
              "    <tr>\n",
              "      <th>25%</th>\n",
              "      <td>-131.280000</td>\n",
              "    </tr>\n",
              "    <tr>\n",
              "      <th>50%</th>\n",
              "      <td>-89.890000</td>\n",
              "    </tr>\n",
              "    <tr>\n",
              "      <th>75%</th>\n",
              "      <td>-55.780000</td>\n",
              "    </tr>\n",
              "    <tr>\n",
              "      <th>max</th>\n",
              "      <td>-24.390000</td>\n",
              "    </tr>\n",
              "  </tbody>\n",
              "</table>\n",
              "</div>"
            ],
            "text/plain": [
              "       Season Profit\n",
              "count      15.000000\n",
              "mean      -94.809333\n",
              "std        48.083213\n",
              "min      -184.380000\n",
              "25%      -131.280000\n",
              "50%       -89.890000\n",
              "75%       -55.780000\n",
              "max       -24.390000"
            ]
          },
          "metadata": {
            "tags": []
          },
          "execution_count": 8
        }
      ]
    },
    {
      "cell_type": "markdown",
      "metadata": {
        "id": "Tr-niim77d-5",
        "colab_type": "text"
      },
      "source": [
        "# Naive Approach\n",
        "\n",
        "We'll take two naive approaches: fixed bets on the underdog and fixed bets on the favorite. The fixed bet will be 5 units."
      ]
    },
    {
      "cell_type": "code",
      "metadata": {
        "id": "gVWLfefY90WF",
        "colab_type": "code",
        "colab": {}
      },
      "source": [
        "def naive_profit(games):\n",
        "  total = 0\n",
        "  df = pd.DataFrame(columns=['ODDS', 'OUTCOME'])\n",
        "  df['ODDS'] = games['ODDS']\n",
        "  df['OUTCOME'] = games['OUTCOME']\n",
        "  for i, game in enumerate(df.values):\n",
        "    odds, outcome = game\n",
        "    wager = 1\n",
        "    total += (odds * outcome * wager) - wager\n",
        "  return total"
      ],
      "execution_count": 0,
      "outputs": []
    },
    {
      "cell_type": "code",
      "metadata": {
        "id": "dvetEM-N70uB",
        "colab_type": "code",
        "colab": {}
      },
      "source": [
        "def get_naive_results(samples):\n",
        "  favorite_accuracy = []\n",
        "  favorite_profit = []\n",
        "  underdogs_accuracy = []\n",
        "  underdogs_profit = []\n",
        "\n",
        "  for sample in samples:\n",
        "    favorites = sample[sample['ODDS'] < 2]\n",
        "    underdogs = sample[sample['ODDS'] >= 2]\n",
        "\n",
        "    favorite_accuracy.append(favorites[favorites['OUTCOME'] == 1].shape[0] / favorites.shape[0])\n",
        "    underdogs_accuracy.append(underdogs[underdogs['OUTCOME'] == 1].shape[0] / underdogs.shape[0])\n",
        "\n",
        "    favorite_profit.append(naive_profit(favorites))\n",
        "    underdogs_profit.append(naive_profit(underdogs))\n",
        "  return (favoriate_accuracy, favorite_profit), (underdogs_accuracy, underdogs_profit)"
      ],
      "execution_count": 0,
      "outputs": []
    },
    {
      "cell_type": "code",
      "metadata": {
        "id": "dBOMbJD4G1Ng",
        "colab_type": "code",
        "colab": {}
      },
      "source": [
        "(favorite_accuracy, favorite_profit), (underdogs_accuracy, underdogs_profit) = get_naive_results(samples)\n",
        "fav_acc_df = pd.DataFrame(data=favorite_accuracy, columns=['Season Accuracy'])\n",
        "fav_prof_df = pd.DataFrame(data=favorite_profit, columns=['Season Profit'])\n",
        "und_acc_df = pd.DataFrame(data=underdogs_accuracy, columns=['Season Accuracy'])\n",
        "und_prof_df = pd.DataFrame(data=underdogs_profit, columns=['Season Profit'])"
      ],
      "execution_count": 0,
      "outputs": []
    },
    {
      "cell_type": "code",
      "metadata": {
        "id": "PVj7bdWLHQK5",
        "colab_type": "code",
        "outputId": "393938ac-4598-4530-ce72-66ea66ad2ae5",
        "colab": {
          "base_uri": "https://localhost:8080/",
          "height": 294
        }
      },
      "source": [
        "fav_acc_df.describe()"
      ],
      "execution_count": 0,
      "outputs": [
        {
          "output_type": "execute_result",
          "data": {
            "text/html": [
              "<div>\n",
              "<style scoped>\n",
              "    .dataframe tbody tr th:only-of-type {\n",
              "        vertical-align: middle;\n",
              "    }\n",
              "\n",
              "    .dataframe tbody tr th {\n",
              "        vertical-align: top;\n",
              "    }\n",
              "\n",
              "    .dataframe thead th {\n",
              "        text-align: right;\n",
              "    }\n",
              "</style>\n",
              "<table border=\"1\" class=\"dataframe\">\n",
              "  <thead>\n",
              "    <tr style=\"text-align: right;\">\n",
              "      <th></th>\n",
              "      <th>Season Accuracy</th>\n",
              "    </tr>\n",
              "  </thead>\n",
              "  <tbody>\n",
              "    <tr>\n",
              "      <th>count</th>\n",
              "      <td>15.000000</td>\n",
              "    </tr>\n",
              "    <tr>\n",
              "      <th>mean</th>\n",
              "      <td>0.678065</td>\n",
              "    </tr>\n",
              "    <tr>\n",
              "      <th>std</th>\n",
              "      <td>0.002781</td>\n",
              "    </tr>\n",
              "    <tr>\n",
              "      <th>min</th>\n",
              "      <td>0.671970</td>\n",
              "    </tr>\n",
              "    <tr>\n",
              "      <th>25%</th>\n",
              "      <td>0.676739</td>\n",
              "    </tr>\n",
              "    <tr>\n",
              "      <th>50%</th>\n",
              "      <td>0.678422</td>\n",
              "    </tr>\n",
              "    <tr>\n",
              "      <th>75%</th>\n",
              "      <td>0.680461</td>\n",
              "    </tr>\n",
              "    <tr>\n",
              "      <th>max</th>\n",
              "      <td>0.681099</td>\n",
              "    </tr>\n",
              "  </tbody>\n",
              "</table>\n",
              "</div>"
            ],
            "text/plain": [
              "       Season Accuracy\n",
              "count        15.000000\n",
              "mean          0.678065\n",
              "std           0.002781\n",
              "min           0.671970\n",
              "25%           0.676739\n",
              "50%           0.678422\n",
              "75%           0.680461\n",
              "max           0.681099"
            ]
          },
          "metadata": {
            "tags": []
          },
          "execution_count": 14
        }
      ]
    },
    {
      "cell_type": "code",
      "metadata": {
        "id": "O19fYsnUHosM",
        "colab_type": "code",
        "outputId": "4d1547bf-2021-41bb-cef9-3c06379257e3",
        "colab": {
          "base_uri": "https://localhost:8080/",
          "height": 294
        }
      },
      "source": [
        "und_acc_df.describe()"
      ],
      "execution_count": 0,
      "outputs": [
        {
          "output_type": "execute_result",
          "data": {
            "text/html": [
              "<div>\n",
              "<style scoped>\n",
              "    .dataframe tbody tr th:only-of-type {\n",
              "        vertical-align: middle;\n",
              "    }\n",
              "\n",
              "    .dataframe tbody tr th {\n",
              "        vertical-align: top;\n",
              "    }\n",
              "\n",
              "    .dataframe thead th {\n",
              "        text-align: right;\n",
              "    }\n",
              "</style>\n",
              "<table border=\"1\" class=\"dataframe\">\n",
              "  <thead>\n",
              "    <tr style=\"text-align: right;\">\n",
              "      <th></th>\n",
              "      <th>Season Accuracy</th>\n",
              "    </tr>\n",
              "  </thead>\n",
              "  <tbody>\n",
              "    <tr>\n",
              "      <th>count</th>\n",
              "      <td>15.000000</td>\n",
              "    </tr>\n",
              "    <tr>\n",
              "      <th>mean</th>\n",
              "      <td>0.304547</td>\n",
              "    </tr>\n",
              "    <tr>\n",
              "      <th>std</th>\n",
              "      <td>0.002637</td>\n",
              "    </tr>\n",
              "    <tr>\n",
              "      <th>min</th>\n",
              "      <td>0.299521</td>\n",
              "    </tr>\n",
              "    <tr>\n",
              "      <th>25%</th>\n",
              "      <td>0.303574</td>\n",
              "    </tr>\n",
              "    <tr>\n",
              "      <th>50%</th>\n",
              "      <td>0.304716</td>\n",
              "    </tr>\n",
              "    <tr>\n",
              "      <th>75%</th>\n",
              "      <td>0.306175</td>\n",
              "    </tr>\n",
              "    <tr>\n",
              "      <th>max</th>\n",
              "      <td>0.309524</td>\n",
              "    </tr>\n",
              "  </tbody>\n",
              "</table>\n",
              "</div>"
            ],
            "text/plain": [
              "       Season Accuracy\n",
              "count        15.000000\n",
              "mean          0.304547\n",
              "std           0.002637\n",
              "min           0.299521\n",
              "25%           0.303574\n",
              "50%           0.304716\n",
              "75%           0.306175\n",
              "max           0.309524"
            ]
          },
          "metadata": {
            "tags": []
          },
          "execution_count": 15
        }
      ]
    },
    {
      "cell_type": "code",
      "metadata": {
        "id": "lyNbpj4sH72X",
        "colab_type": "code",
        "outputId": "1d9b9812-774c-41a2-a2ec-d693e10465ad",
        "colab": {
          "base_uri": "https://localhost:8080/",
          "height": 294
        }
      },
      "source": [
        "fav_prof_df.describe()"
      ],
      "execution_count": 0,
      "outputs": [
        {
          "output_type": "execute_result",
          "data": {
            "text/html": [
              "<div>\n",
              "<style scoped>\n",
              "    .dataframe tbody tr th:only-of-type {\n",
              "        vertical-align: middle;\n",
              "    }\n",
              "\n",
              "    .dataframe tbody tr th {\n",
              "        vertical-align: top;\n",
              "    }\n",
              "\n",
              "    .dataframe thead th {\n",
              "        text-align: right;\n",
              "    }\n",
              "</style>\n",
              "<table border=\"1\" class=\"dataframe\">\n",
              "  <thead>\n",
              "    <tr style=\"text-align: right;\">\n",
              "      <th></th>\n",
              "      <th>Season Profit</th>\n",
              "    </tr>\n",
              "  </thead>\n",
              "  <tbody>\n",
              "    <tr>\n",
              "      <th>count</th>\n",
              "      <td>15.000000</td>\n",
              "    </tr>\n",
              "    <tr>\n",
              "      <th>mean</th>\n",
              "      <td>-116.060926</td>\n",
              "    </tr>\n",
              "    <tr>\n",
              "      <th>std</th>\n",
              "      <td>11.536758</td>\n",
              "    </tr>\n",
              "    <tr>\n",
              "      <th>min</th>\n",
              "      <td>-138.843115</td>\n",
              "    </tr>\n",
              "    <tr>\n",
              "      <th>25%</th>\n",
              "      <td>-123.315322</td>\n",
              "    </tr>\n",
              "    <tr>\n",
              "      <th>50%</th>\n",
              "      <td>-115.301518</td>\n",
              "    </tr>\n",
              "    <tr>\n",
              "      <th>75%</th>\n",
              "      <td>-106.610818</td>\n",
              "    </tr>\n",
              "    <tr>\n",
              "      <th>max</th>\n",
              "      <td>-102.041067</td>\n",
              "    </tr>\n",
              "  </tbody>\n",
              "</table>\n",
              "</div>"
            ],
            "text/plain": [
              "       Season Profit\n",
              "count      15.000000\n",
              "mean     -116.060926\n",
              "std        11.536758\n",
              "min      -138.843115\n",
              "25%      -123.315322\n",
              "50%      -115.301518\n",
              "75%      -106.610818\n",
              "max      -102.041067"
            ]
          },
          "metadata": {
            "tags": []
          },
          "execution_count": 16
        }
      ]
    },
    {
      "cell_type": "code",
      "metadata": {
        "id": "IUhAVvK6IUB8",
        "colab_type": "code",
        "outputId": "a63a5e02-e6ac-4933-d60d-12a5f50817b2",
        "colab": {
          "base_uri": "https://localhost:8080/",
          "height": 294
        }
      },
      "source": [
        "und_prof_df.describe()"
      ],
      "execution_count": 0,
      "outputs": [
        {
          "output_type": "execute_result",
          "data": {
            "text/html": [
              "<div>\n",
              "<style scoped>\n",
              "    .dataframe tbody tr th:only-of-type {\n",
              "        vertical-align: middle;\n",
              "    }\n",
              "\n",
              "    .dataframe tbody tr th {\n",
              "        vertical-align: top;\n",
              "    }\n",
              "\n",
              "    .dataframe thead th {\n",
              "        text-align: right;\n",
              "    }\n",
              "</style>\n",
              "<table border=\"1\" class=\"dataframe\">\n",
              "  <thead>\n",
              "    <tr style=\"text-align: right;\">\n",
              "      <th></th>\n",
              "      <th>Season Profit</th>\n",
              "    </tr>\n",
              "  </thead>\n",
              "  <tbody>\n",
              "    <tr>\n",
              "      <th>count</th>\n",
              "      <td>15.000000</td>\n",
              "    </tr>\n",
              "    <tr>\n",
              "      <th>mean</th>\n",
              "      <td>-177.130000</td>\n",
              "    </tr>\n",
              "    <tr>\n",
              "      <th>std</th>\n",
              "      <td>25.389111</td>\n",
              "    </tr>\n",
              "    <tr>\n",
              "      <th>min</th>\n",
              "      <td>-230.770000</td>\n",
              "    </tr>\n",
              "    <tr>\n",
              "      <th>25%</th>\n",
              "      <td>-194.450000</td>\n",
              "    </tr>\n",
              "    <tr>\n",
              "      <th>50%</th>\n",
              "      <td>-167.380000</td>\n",
              "    </tr>\n",
              "    <tr>\n",
              "      <th>75%</th>\n",
              "      <td>-160.410000</td>\n",
              "    </tr>\n",
              "    <tr>\n",
              "      <th>max</th>\n",
              "      <td>-141.890000</td>\n",
              "    </tr>\n",
              "  </tbody>\n",
              "</table>\n",
              "</div>"
            ],
            "text/plain": [
              "       Season Profit\n",
              "count      15.000000\n",
              "mean     -177.130000\n",
              "std        25.389111\n",
              "min      -230.770000\n",
              "25%      -194.450000\n",
              "50%      -167.380000\n",
              "75%      -160.410000\n",
              "max      -141.890000"
            ]
          },
          "metadata": {
            "tags": []
          },
          "execution_count": 17
        }
      ]
    },
    {
      "cell_type": "markdown",
      "metadata": {
        "id": "OlTCDBuO_HQv",
        "colab_type": "text"
      },
      "source": [
        "# ANN\n",
        "\n",
        "The ANN model is in the \"Binary Classification Bettor\" notebook. It just predicts the probability that a matchup comes true."
      ]
    },
    {
      "cell_type": "code",
      "metadata": {
        "id": "QK0xSfiB6w2C",
        "colab_type": "code",
        "colab": {}
      },
      "source": [
        "ann = tf.keras.models.load_model('gdrive/My Drive/sbgan/binary')"
      ],
      "execution_count": 0,
      "outputs": []
    },
    {
      "cell_type": "code",
      "metadata": {
        "id": "K53JOlRv7dm-",
        "colab_type": "code",
        "colab": {}
      },
      "source": [
        "def compute_ann_accuracy(scores, outcomes):\n",
        "  scores = np.round(scores)\n",
        "  num_right = 0\n",
        "  for score, out in zip(scores, outcomes):\n",
        "    if score == out:\n",
        "      num_right += 1\n",
        "  return num_right / len(outcomes)\n",
        "\n",
        "def compute_ann_flat_profit(scores, odds, outcomes, max_wager=1.):\n",
        "  scores = np.round(scores)\n",
        "  odds = 1. / odds\n",
        "  total = 0\n",
        "  for p, odd, vic in zip(scores, odds[:, 0], outcomes[:, 0]):\n",
        "    wager = p * max_wager\n",
        "    winnings = (wager * vic * odd) - wager\n",
        "    total += winnings\n",
        "  return total\n",
        "\n",
        "def compute_ann_kelly_profit(scores, odds, outcomes, max_wager=1):\n",
        "  winnings = []\n",
        "  for p, odd, vic in zip(scores, odds, outcomes):\n",
        "    p = p[0]\n",
        "    q = 1 - p\n",
        "    b = 1. / odd\n",
        "    kelly = max(0, (b*p - q) / b)\n",
        "    wager = kelly * max_wager\n",
        "    winnings.append((vic * wager * b) - wager)\n",
        "  return np.sum(np.array(winnings))"
      ],
      "execution_count": 0,
      "outputs": []
    },
    {
      "cell_type": "code",
      "metadata": {
        "id": "Ispyeghu8aO9",
        "colab_type": "code",
        "colab": {}
      },
      "source": [
        "def get_ann_results(samples):\n",
        "  ann_accuracy = []\n",
        "  flat_profit = []\n",
        "  kelly_profit = []\n",
        "  for sample in samples:\n",
        "    X, odds, outcome = sample.drop(['ODDS', 'OUTCOME'], axis=1).to_numpy(), 1. / sample[['ODDS']].to_numpy(), sample[['OUTCOME']].to_numpy()\n",
        "    scores = ann.predict(X)\n",
        "\n",
        "    ann_accuracy.append(compute_ann_accuracy(scores, outcome))\n",
        "    flat_profit.append(compute_ann_flat_profit(scores, odds, outcome))\n",
        "    kelly_profit.append(compute_ann_kelly_profit(scores, odds, outcome))\n",
        "  return ann_accuracy, flat_profit, kelly_profit"
      ],
      "execution_count": 0,
      "outputs": []
    },
    {
      "cell_type": "code",
      "metadata": {
        "id": "WF6budLtUdsN",
        "colab_type": "code",
        "colab": {}
      },
      "source": [
        "ann_accuracy, flat_profit, kelly_profit = get_ann_results(samples)\n",
        "ann_acc_df = pd.DataFrame(data=ann_accuracy, columns=['Season Accuracy'])\n",
        "ann_prof_flat_df = pd.DataFrame(data=flat_profit, columns=['Season Flat Profit'])\n",
        "ann_prof_kelly_df = pd.DataFrame(data=kelly_profit, columns=['Season Kelly Profit'])"
      ],
      "execution_count": 0,
      "outputs": []
    },
    {
      "cell_type": "code",
      "metadata": {
        "id": "Ri6XWYraUmQv",
        "colab_type": "code",
        "outputId": "d1d1e773-c136-4e77-b0f2-841062becd30",
        "colab": {
          "base_uri": "https://localhost:8080/",
          "height": 294
        }
      },
      "source": [
        "ann_acc_df.describe()"
      ],
      "execution_count": 0,
      "outputs": [
        {
          "output_type": "execute_result",
          "data": {
            "text/html": [
              "<div>\n",
              "<style scoped>\n",
              "    .dataframe tbody tr th:only-of-type {\n",
              "        vertical-align: middle;\n",
              "    }\n",
              "\n",
              "    .dataframe tbody tr th {\n",
              "        vertical-align: top;\n",
              "    }\n",
              "\n",
              "    .dataframe thead th {\n",
              "        text-align: right;\n",
              "    }\n",
              "</style>\n",
              "<table border=\"1\" class=\"dataframe\">\n",
              "  <thead>\n",
              "    <tr style=\"text-align: right;\">\n",
              "      <th></th>\n",
              "      <th>Season Accuracy</th>\n",
              "    </tr>\n",
              "  </thead>\n",
              "  <tbody>\n",
              "    <tr>\n",
              "      <th>count</th>\n",
              "      <td>15.000000</td>\n",
              "    </tr>\n",
              "    <tr>\n",
              "      <th>mean</th>\n",
              "      <td>0.637214</td>\n",
              "    </tr>\n",
              "    <tr>\n",
              "      <th>std</th>\n",
              "      <td>0.002565</td>\n",
              "    </tr>\n",
              "    <tr>\n",
              "      <th>min</th>\n",
              "      <td>0.633984</td>\n",
              "    </tr>\n",
              "    <tr>\n",
              "      <th>25%</th>\n",
              "      <td>0.635254</td>\n",
              "    </tr>\n",
              "    <tr>\n",
              "      <th>50%</th>\n",
              "      <td>0.636328</td>\n",
              "    </tr>\n",
              "    <tr>\n",
              "      <th>75%</th>\n",
              "      <td>0.638770</td>\n",
              "    </tr>\n",
              "    <tr>\n",
              "      <th>max</th>\n",
              "      <td>0.641602</td>\n",
              "    </tr>\n",
              "  </tbody>\n",
              "</table>\n",
              "</div>"
            ],
            "text/plain": [
              "       Season Accuracy\n",
              "count        15.000000\n",
              "mean          0.637214\n",
              "std           0.002565\n",
              "min           0.633984\n",
              "25%           0.635254\n",
              "50%           0.636328\n",
              "75%           0.638770\n",
              "max           0.641602"
            ]
          },
          "metadata": {
            "tags": []
          },
          "execution_count": 28
        }
      ]
    },
    {
      "cell_type": "code",
      "metadata": {
        "id": "8w5w_5nNU8ql",
        "colab_type": "code",
        "outputId": "69d2334e-c18b-4f54-c556-560b24da1ea9",
        "colab": {
          "base_uri": "https://localhost:8080/",
          "height": 294
        }
      },
      "source": [
        "ann_prof_flat_df.describe()"
      ],
      "execution_count": 0,
      "outputs": [
        {
          "output_type": "execute_result",
          "data": {
            "text/html": [
              "<div>\n",
              "<style scoped>\n",
              "    .dataframe tbody tr th:only-of-type {\n",
              "        vertical-align: middle;\n",
              "    }\n",
              "\n",
              "    .dataframe tbody tr th {\n",
              "        vertical-align: top;\n",
              "    }\n",
              "\n",
              "    .dataframe thead th {\n",
              "        text-align: right;\n",
              "    }\n",
              "</style>\n",
              "<table border=\"1\" class=\"dataframe\">\n",
              "  <thead>\n",
              "    <tr style=\"text-align: right;\">\n",
              "      <th></th>\n",
              "      <th>Season Flat Profit</th>\n",
              "    </tr>\n",
              "  </thead>\n",
              "  <tbody>\n",
              "    <tr>\n",
              "      <th>count</th>\n",
              "      <td>15.000000</td>\n",
              "    </tr>\n",
              "    <tr>\n",
              "      <th>mean</th>\n",
              "      <td>-107.806677</td>\n",
              "    </tr>\n",
              "    <tr>\n",
              "      <th>std</th>\n",
              "      <td>14.909282</td>\n",
              "    </tr>\n",
              "    <tr>\n",
              "      <th>min</th>\n",
              "      <td>-137.661072</td>\n",
              "    </tr>\n",
              "    <tr>\n",
              "      <th>25%</th>\n",
              "      <td>-115.452881</td>\n",
              "    </tr>\n",
              "    <tr>\n",
              "      <th>50%</th>\n",
              "      <td>-108.941902</td>\n",
              "    </tr>\n",
              "    <tr>\n",
              "      <th>75%</th>\n",
              "      <td>-98.695446</td>\n",
              "    </tr>\n",
              "    <tr>\n",
              "      <th>max</th>\n",
              "      <td>-80.606773</td>\n",
              "    </tr>\n",
              "  </tbody>\n",
              "</table>\n",
              "</div>"
            ],
            "text/plain": [
              "       Season Flat Profit\n",
              "count           15.000000\n",
              "mean          -107.806677\n",
              "std             14.909282\n",
              "min           -137.661072\n",
              "25%           -115.452881\n",
              "50%           -108.941902\n",
              "75%            -98.695446\n",
              "max            -80.606773"
            ]
          },
          "metadata": {
            "tags": []
          },
          "execution_count": 29
        }
      ]
    },
    {
      "cell_type": "code",
      "metadata": {
        "id": "1J8pPuJdVJVa",
        "colab_type": "code",
        "outputId": "60d3a748-2e31-4e85-f3c3-abcb2b7611ac",
        "colab": {
          "base_uri": "https://localhost:8080/",
          "height": 294
        }
      },
      "source": [
        "ann_prof_kelly_df.describe()"
      ],
      "execution_count": 0,
      "outputs": [
        {
          "output_type": "execute_result",
          "data": {
            "text/html": [
              "<div>\n",
              "<style scoped>\n",
              "    .dataframe tbody tr th:only-of-type {\n",
              "        vertical-align: middle;\n",
              "    }\n",
              "\n",
              "    .dataframe tbody tr th {\n",
              "        vertical-align: top;\n",
              "    }\n",
              "\n",
              "    .dataframe thead th {\n",
              "        text-align: right;\n",
              "    }\n",
              "</style>\n",
              "<table border=\"1\" class=\"dataframe\">\n",
              "  <thead>\n",
              "    <tr style=\"text-align: right;\">\n",
              "      <th></th>\n",
              "      <th>Season Kelly Profit</th>\n",
              "    </tr>\n",
              "  </thead>\n",
              "  <tbody>\n",
              "    <tr>\n",
              "      <th>count</th>\n",
              "      <td>15.000000</td>\n",
              "    </tr>\n",
              "    <tr>\n",
              "      <th>mean</th>\n",
              "      <td>-66.306287</td>\n",
              "    </tr>\n",
              "    <tr>\n",
              "      <th>std</th>\n",
              "      <td>7.865210</td>\n",
              "    </tr>\n",
              "    <tr>\n",
              "      <th>min</th>\n",
              "      <td>-78.730609</td>\n",
              "    </tr>\n",
              "    <tr>\n",
              "      <th>25%</th>\n",
              "      <td>-71.259138</td>\n",
              "    </tr>\n",
              "    <tr>\n",
              "      <th>50%</th>\n",
              "      <td>-68.053841</td>\n",
              "    </tr>\n",
              "    <tr>\n",
              "      <th>75%</th>\n",
              "      <td>-60.456483</td>\n",
              "    </tr>\n",
              "    <tr>\n",
              "      <th>max</th>\n",
              "      <td>-54.613586</td>\n",
              "    </tr>\n",
              "  </tbody>\n",
              "</table>\n",
              "</div>"
            ],
            "text/plain": [
              "       Season Kelly Profit\n",
              "count            15.000000\n",
              "mean            -66.306287\n",
              "std               7.865210\n",
              "min             -78.730609\n",
              "25%             -71.259138\n",
              "50%             -68.053841\n",
              "75%             -60.456483\n",
              "max             -54.613586"
            ]
          },
          "metadata": {
            "tags": []
          },
          "execution_count": 31
        }
      ]
    },
    {
      "cell_type": "markdown",
      "metadata": {
        "id": "JyW4HmDeD1kq",
        "colab_type": "text"
      },
      "source": [
        "# Upset Detection\n",
        "\n",
        "I had to define the model in here because TensorFlow is weird with saving custom models like this one. "
      ]
    },
    {
      "cell_type": "code",
      "metadata": {
        "id": "HAZYSvLuD4Cy",
        "colab_type": "code",
        "colab": {}
      },
      "source": [
        "from tensorflow.keras.models import Model\n",
        "from tensorflow.keras.layers import Input, Dense, LeakyReLU, Dropout, BatchNormalization\n",
        "from tensorflow.keras.optimizers import Adam\n",
        "import tensorflow.keras.backend as K\n",
        "import os\n",
        "\n",
        "class VeGAN():\n",
        "\n",
        "  # Tweaked from Keras GAN: https://github.com/eriklindernoren/Keras-GAN\n",
        "  def __init__(self, optimizer='rmsprop'):\n",
        "\n",
        "    self.G = self.build_generator()\n",
        "    \n",
        "    self.D = self.build_discriminator()\n",
        "    self.D.compile(loss='binary_crossentropy', optimizer=optimizer, metrics=['accuracy'])\n",
        "  \n",
        "    inp = Input(shape=(174,))\n",
        "    odds = self.G(inp)\n",
        "\n",
        "    valid = self.D(inputs=[inp, odds])\n",
        "\n",
        "    self.combined = Model(inp, valid)\n",
        "    self.combined.compile(loss='binary_crossentropy', optimizer=optimizer)\n",
        "\n",
        "  # Tweaked from Keras GAN: https://github.com/eriklindernoren/Keras-GAN\n",
        "  def build_generator(self):\n",
        "    inp = Input(shape=(174,))\n",
        "    \n",
        "    fc1 = Dense(128)(inp)\n",
        "    fc1 = LeakyReLU(alpha=0.2)(fc1)\n",
        "    fc1 = BatchNormalization(momentum=0.8)(fc1)\n",
        "\n",
        "    fc2 = Dense(64)(fc1)\n",
        "    fc2 = LeakyReLU(alpha=0.2)(fc2)\n",
        "\n",
        "    odds = Dense(1, activation='sigmoid')(fc2)\n",
        "\n",
        "    return Model(inp, odds)\n",
        "  \n",
        "  # Tweaked from Keras GAN: https://github.com/eriklindernoren/Keras-GAN\n",
        "  def build_discriminator(self):\n",
        "\n",
        "    inp = Input(shape=(174,))\n",
        "    odds = Input(shape=(1,))\n",
        "\n",
        "    fc1 = Dense(128)(inp)\n",
        "    fc1 = LeakyReLU(alpha=0.2)(fc1)\n",
        "    fc1 = Dropout(0.2)(fc1)\n",
        "\n",
        "    fc2 = Dense(64)(fc1)\n",
        "    fc2 = LeakyReLU(alpha=0.2)(fc2)\n",
        "    fc2 = Dropout(0.2)(fc2)\n",
        "\n",
        "    combined = K.concatenate([fc2, odds])\n",
        "  \n",
        "    pred = Dense(1, activation='sigmoid')(combined)\n",
        "\n",
        "    return Model(inputs=[inp, odds], outputs=pred)\n",
        "  \n",
        "  def save_weights(self, path):\n",
        "    d_path = os.path.join(path, 'discriminator.h5')\n",
        "    g_path = os.path.join(path, 'generator.h5')\n",
        "    self.G.save_weights(g_path)\n",
        "    self.D.save_weights(d_path)\n",
        "\n",
        "  def load_weights(self, d_path, g_path):\n",
        "    self.G.load_weights(g_path)\n",
        "    self.D.load_weights(d_path)\n",
        "\n",
        "  # From Keras AnoGAN: https://github.com/tkwoo/anogan-keras/blob/master/anogan.py\n",
        "  def feature_extractor(self):\n",
        "    intermediate = Model(inputs=self.D.layers[0].input, outputs=self.D.layers[-7].output)\n",
        "    intermediate.compile(loss='binary_crossentropy', optimizer='rmsprop')\n",
        "    return intermediate\n",
        "  \n",
        "  # From Keras AnoGAN: https://github.com/tkwoo/anogan-keras/blob/master/anogan.py\n",
        "  def sum_of_residual(self, y_true, y_pred):\n",
        "    return K.sum(K.abs(y_true - y_pred))\n",
        "\n",
        "  # From Keras ANOGan: https://github.com/tkwoo/anogan-keras/blob/master/anogan.py\n",
        "  def anomaly_detector(self):\n",
        "    fe = self.feature_extractor()\n",
        "    fe.trainable = False\n",
        "    g = Model(inputs=self.G.layers[1].input, outputs=self.G.layers[-1].output)\n",
        "    g.trainable = False\n",
        "\n",
        "    aInp = Input(shape=(174,))\n",
        "    gInp = Dense((174), activation='sigmoid', trainable=True)(aInp)\n",
        "\n",
        "    gOut = g(gInp)\n",
        "    dOut = fe([aInp, gOut])\n",
        "\n",
        "    model = Model(inputs=aInp, outputs=[gOut, dOut])\n",
        "    model.compile(loss=self.sum_of_residual, loss_weights=[0.9, 0.1], optimizer='rmsprop')\n",
        "    \n",
        "    K.set_learning_phase(0)\n",
        "\n",
        "    return model\n",
        "\n",
        "  # From Keras ANOGan: https://github.com/tkwoo/anogan-keras/blob/master/anogan.py\n",
        "  def compute_anomaly_score(self, model, x, y, iterations=500):\n",
        "      intermediate = self.feature_extractor()\n",
        "      d_x = intermediate.predict([x, y])\n",
        "\n",
        "      loss = model.fit(x, [y, d_x], batch_size=1, epochs=iterations, verbose=0)\n",
        "      similar_data, _ = model.predict(x)\n",
        "      \n",
        "      loss = loss.history['loss'][-1]\n",
        "      \n",
        "      return loss, similar_data\n",
        "\n",
        "  def compute_anomaly_scores(self, model, x, y, iterations=500):\n",
        "    upset_scores = []\n",
        "\n",
        "    for line, odd in zip(X_underdogs, underdog_odds):\n",
        "      score, _ = vegas.compute_anomaly_score(model, np.array([line]), np.array([odd]))\n",
        "      upset_scores.append(score)\n",
        "\n",
        "    return np.array(upset_scores)\n",
        "  \n",
        "  # Tweaked from Keras GAN: https://github.com/eriklindernoren/Keras-GAN\n",
        "  def train(self, X_train, y_train, results=None, epochs=10, batch_size=128):\n",
        "    history = {'d_loss': [], 'g_loss': []}\n",
        "  \n",
        "    valid = np.ones((batch_size, 1))\n",
        "    fake = np.zeros((batch_size, 1))\n",
        "\n",
        "    for epoch in range(epochs):\n",
        "      \n",
        "      if epoch+1 % 20000 == 0:\n",
        "        self.D.trainable = False\n",
        "    \n",
        "      idx = np.random.randint(0, X_train.shape[0], batch_size)\n",
        "\n",
        "      games = X_train[idx]\n",
        "      outcomes = results[idx]\n",
        "  \n",
        "      gen_odds = self.G.predict(games)\n",
        "      odds = y_train[idx]\n",
        "      accept = self.D.predict([games, gen_odds])\n",
        "\n",
        "      d_loss_real = self.D.train_on_batch([games, odds], valid)\n",
        "      d_loss_fake = self.D.train_on_batch([games, gen_odds], fake)\n",
        "      d_loss = 0.5 * np.add(d_loss_real, d_loss_fake)\n",
        "      history['d_loss'].append(d_loss[0])\n",
        "\n",
        "      g_loss = self.combined.train_on_batch(games, valid)\n",
        "      history['g_loss'].append(g_loss)\n",
        "    \n",
        "      print (\"%d [D loss: %f, acc.: %.2f%%] [G loss: %f]\" % (epoch, d_loss[0], 100*d_loss[1], g_loss))\n",
        "      \n",
        "    return history"
      ],
      "execution_count": 0,
      "outputs": []
    },
    {
      "cell_type": "code",
      "metadata": {
        "id": "XUxvH3ZKECMW",
        "colab_type": "code",
        "colab": {}
      },
      "source": [
        "vegas = VeGAN()\n",
        "vegas.load_weights('gdrive/My Drive/sbgan/discriminator.h5', 'gdrive/My Drive/sbgan/generator.h5')"
      ],
      "execution_count": 0,
      "outputs": []
    },
    {
      "cell_type": "code",
      "metadata": {
        "id": "rKi4DG05FmYu",
        "colab_type": "code",
        "colab": {}
      },
      "source": [
        "def compute_upset_accuracy(scores, out, threshold=4.):\n",
        "  num_right = 0\n",
        "  num_picked = 0\n",
        "  for score, vic in zip(scores, out):\n",
        "    if score > threshold:\n",
        "      num_picked += 1\n",
        "      if vic == 1:\n",
        "        num_right += 1\n",
        "  return num_right / num_picked\n",
        "\n",
        "def compute_upset_flat_profit(scores, odds, out, threshold=4.2, max_wager=1.):\n",
        "  odds = 1. / odds\n",
        "  total = 0\n",
        "  for score, odd, out in zip(scores, odds[:, 0], out[:, 0]):\n",
        "    if score > threshold:\n",
        "      winnings = (max_wager * odd * out) - max_wager\n",
        "      total += winnings\n",
        "  \n",
        "  return total\n",
        "\n",
        "def compute_upset_mixed_profit(scores, odds, out):\n",
        "  odds = 1./ odds\n",
        "  total = 0\n",
        "  for score, odd, out in zip(scores, odds[:, 0], out[:, 0]):\n",
        "    winnings = (score * odd * out) - score\n",
        "    total += winnings\n",
        "  \n",
        "  return total"
      ],
      "execution_count": 0,
      "outputs": []
    },
    {
      "cell_type": "code",
      "metadata": {
        "id": "xMw3T8BE1GkF",
        "colab_type": "code",
        "colab": {}
      },
      "source": [
        "# This initally only recorded profits not accuracy, but now it also reports accuracy\n",
        "def get_multi_upset_results(model, data, n=15):\n",
        "  thresholds = [4.0 + i*0.2 for i in range(0, 11)]\n",
        "  profits = {}\n",
        "  accuracy = {}\n",
        "  for t in thresholds:\n",
        "    profits[str(t)] = []\n",
        "    accuracy[{}] = []\n",
        "  \n",
        "  for i in range(n):\n",
        "    print(\"Testing Sample: %d\" % i)\n",
        "    sample = data.sample(5120)\n",
        "    underdogs = sample[(sample['ODDS'] >= 2.)]\n",
        "    X_underdogs, underdog_odds, underdog_outcomes = underdogs.drop(['ODDS', 'OUTCOME'], axis=1).to_numpy(), 1. / underdogs[['ODDS']].to_numpy(), underdogs[['OUTCOME']].to_numpy()\n",
        "    scores = vegas.compute_anomaly_scores(model, X_underdogs, underdog_odds)\n",
        "    for t in thresholds:\n",
        "      profits[str(t)].append(compute_upset_profit(scores, underdog_odds, underdog_outcomes, threshold=t))\n",
        "      accuracy[str(t)].append(compute_upset_accuracy(scores, underdog_outcomes, threshold=t))\n",
        "    \n",
        "  return accuracy, profits"
      ],
      "execution_count": 0,
      "outputs": []
    },
    {
      "cell_type": "code",
      "metadata": {
        "id": "j0jmLp2GH-8i",
        "colab_type": "code",
        "colab": {}
      },
      "source": [
        "vegan_accuracy, vegan_profits = get_multi_upset_results(upset_detector, test)\n",
        "vegan_profits_df = pd.DataFrame(vegan_profits)\n",
        "vegan_accuracy_df = pd.DataFrame(vegan_accuracy)"
      ],
      "execution_count": 0,
      "outputs": []
    },
    {
      "cell_type": "markdown",
      "metadata": {
        "id": "2nZkpbSz2DXc",
        "colab_type": "text"
      },
      "source": [
        "# Plot Results"
      ]
    },
    {
      "cell_type": "code",
      "metadata": {
        "id": "Vx-VW6F_9ANt",
        "colab_type": "code",
        "outputId": "e1bc4a5e-b3af-471f-c55a-f87e44f8d99e",
        "colab": {
          "base_uri": "https://localhost:8080/",
          "height": 285
        }
      },
      "source": [
        "import matplotlib.pyplot as plt\n",
        "plt.plot('x', '4.0', data=vegan_profits_df)\n",
        "plt.plot('x', '4.2', data=vegan_profits_df)\n",
        "plt.plot('x', '4.4', data=vegan_profits_df)\n",
        "plt.plot('x', '4.6', data=vegan_profits_df)\n",
        "plt.plot('x', '4.8', data=vegan_profits_df)\n",
        "plt.plot('x', '5.0', data=vegan_profits_df)\n",
        "plt.plot('x', '5.2', data=vegan_profits_df)\n",
        "plt.plot('x', '5.4', data=vegan_profits_df)\n",
        "plt.plot('x', '5.6', data=vegan_profits_df)\n",
        "plt.plot('x', '5.8', data=vegan_profits_df)\n",
        "plt.plot('x', '6.0', data=vegan_profits_df)\n",
        "plt.legend()"
      ],
      "execution_count": 0,
      "outputs": [
        {
          "output_type": "execute_result",
          "data": {
            "text/plain": [
              "<matplotlib.legend.Legend at 0x7f1a9a474d68>"
            ]
          },
          "metadata": {
            "tags": []
          },
          "execution_count": 33
        },
        {
          "output_type": "display_data",
          "data": {
            "image/png": "[encoded data removed]",
            "text/plain": [
              "<Figure size 432x288 with 1 Axes>"
            ]
          },
          "metadata": {
            "tags": [],
            "needs_background": "light"
          }
        }
      ]
    },
    {
      "cell_type": "code",
      "metadata": {
        "id": "wR-a4xgu9fsE",
        "colab_type": "code",
        "colab": {}
      },
      "source": [
        "vegan_profits.to_csv('gdrive/My Drive/sbgan/vegan_profits.csv')\n",
        "vegan_accuracy.to_csv('gdrive/My Drive/sbgan/vegan_accuracy.csv')"
      ],
      "execution_count": 0,
      "outputs": []
    }
  ]
}